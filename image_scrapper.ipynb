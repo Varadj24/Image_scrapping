{
 "cells": [
  {
   "cell_type": "code",
   "execution_count": 1,
   "id": "7bce1b49-a847-4fc3-8688-2f64a9095382",
   "metadata": {},
   "outputs": [],
   "source": [
    " #Q1.Write a python program to extract the video URL of the first five videos"
   ]
  },
  {
   "cell_type": "code",
   "execution_count": 3,
   "id": "4a41e0a6-efb2-4e01-8bac-1c075c294862",
   "metadata": {},
   "outputs": [],
   "source": [
    "import requests\n",
    "from bs4 import BeautifulSoup\n",
    "\n",
    "url = \"https://www.youtube.com/@PW-Foundation/videos\"\n",
    "\n",
    "response = requests.get(url)\n",
    "\n",
    "soup = BeautifulSoup(response.content, \"html.parser\")\n",
    "\n",
    "video_elements = soup.find_all(\"a\", class_=\"yt-simple-endpoint style-scope ytd-grid-video-renderer\")\n",
    "\n",
    "video_urls = []\n",
    "for video_element in video_elements[:5]:\n",
    "    video_url = \"https://www.youtube.com\" + video_element[\"href\"]\n",
    "    video_urls.append(video_url)\n"
   ]
  },
  {
   "cell_type": "code",
   "execution_count": null,
   "id": "c9f5d8a7-8379-4d2d-8fd6-96c15825790c",
   "metadata": {},
   "outputs": [],
   "source": []
  },
  {
   "cell_type": "code",
   "execution_count": 5,
   "id": "570b1159-13a3-4864-91b4-e62d0175a98b",
   "metadata": {},
   "outputs": [],
   "source": [
    "#Q2. Write a python program to extract the URL of the video thumbnails of the first five videos."
   ]
  },
  {
   "cell_type": "code",
   "execution_count": 6,
   "id": "ab7b1a80-5f92-4ccd-891a-3549dc111775",
   "metadata": {},
   "outputs": [],
   "source": [
    "response = requests.get(url)\n",
    "\n",
    "soup = BeautifulSoup(response.content, \"html.parser\")\n",
    "\n",
    "thumbnail_elements = soup.find_all(\"img\", class_=\"style-scope yt-img-shadow\")\n",
    "\n",
    "thumbnail_urls = []\n",
    "for thumbnail_element in thumbnail_elements[:5]:\n",
    "    thumbnail_url = thumbnail_element[\"src\"]\n",
    "    thumbnail_urls.append(thumbnail_url)\n"
   ]
  },
  {
   "cell_type": "code",
   "execution_count": null,
   "id": "354839be-e613-4795-8c34-7e48df0919f9",
   "metadata": {},
   "outputs": [],
   "source": []
  },
  {
   "cell_type": "code",
   "execution_count": 8,
   "id": "791754cc-3723-4cf0-a808-3850d50dbe56",
   "metadata": {},
   "outputs": [],
   "source": [
    "#Q3. Write a python program to extract the title of the first five videos."
   ]
  },
  {
   "cell_type": "code",
   "execution_count": 9,
   "id": "23813bc4-9d8a-4d4d-9c08-f8ba49a4cb01",
   "metadata": {},
   "outputs": [],
   "source": [
    "url1 = \"https://www.youtube.com/@PW-Foundation/videos\"\n",
    "\n",
    "\n",
    "response = requests.get(url1)\n",
    "\n",
    "# Parse the HTML content of the page using BeautifulSoup\n",
    "soup = BeautifulSoup(response.content, \"html.parser\")\n",
    "\n",
    "# Find all the video title elements on the page\n",
    "title_elements = soup.find_all(\"a\", class_=\"yt-simple-endpoint style-scope ytd-grid-video-renderer\")\n",
    "\n",
    "# Extract titles of the first five videos\n",
    "video_titles = []\n",
    "for title_element in title_elements[:5]:\n",
    "    video_title = title_element.text\n",
    "    video_titles.append(video_title)"
   ]
  },
  {
   "cell_type": "code",
   "execution_count": null,
   "id": "22362d84-d71c-4e36-b281-e0baf30c5011",
   "metadata": {},
   "outputs": [],
   "source": []
  },
  {
   "cell_type": "code",
   "execution_count": 11,
   "id": "60e02512-b267-42fc-b551-1061936b516a",
   "metadata": {},
   "outputs": [],
   "source": [
    "#Q4. Write a python program to extract the number of views of the first five videos."
   ]
  },
  {
   "cell_type": "code",
   "execution_count": 13,
   "id": "786b1991-af27-4c89-80cb-eae015e9bb32",
   "metadata": {},
   "outputs": [],
   "source": [
    "url = \"https://www.youtube.com/@PW-Foundation/videos\"\n",
    "\n",
    "response = requests.get(url)\n",
    "\n",
    "soup = BeautifulSoup(response.content, \"html.parser\")\n",
    "\n",
    "view_count_elements = soup.find_all(\"span\", class_=\"style-scope ytd-grid-video-renderer\")\n",
    "\n",
    "view_counts = []\n",
    "for i in range(0, len(view_count_elements), 2):\n",
    "    view_count = view_count_elements[i].text\n",
    "    view_counts.append(view_count)"
   ]
  },
  {
   "cell_type": "code",
   "execution_count": null,
   "id": "057af87b-88cd-46b2-8703-62118df8a274",
   "metadata": {},
   "outputs": [],
   "source": []
  },
  {
   "cell_type": "code",
   "execution_count": 14,
   "id": "5a60b29a-6b1d-4484-b4a7-0104e9986025",
   "metadata": {},
   "outputs": [],
   "source": [
    "#Q5. Write a python program to extract the time of posting of video for the first five videos."
   ]
  },
  {
   "cell_type": "code",
   "execution_count": null,
   "id": "25024548-dd5f-4379-b7d1-07dcd22ea92f",
   "metadata": {},
   "outputs": [],
   "source": []
  }
 ],
 "metadata": {
  "kernelspec": {
   "display_name": "Python 3 (ipykernel)",
   "language": "python",
   "name": "python3"
  },
  "language_info": {
   "codemirror_mode": {
    "name": "ipython",
    "version": 3
   },
   "file_extension": ".py",
   "mimetype": "text/x-python",
   "name": "python",
   "nbconvert_exporter": "python",
   "pygments_lexer": "ipython3",
   "version": "3.10.8"
  }
 },
 "nbformat": 4,
 "nbformat_minor": 5
}
